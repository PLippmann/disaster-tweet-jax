{
  "nbformat": 4,
  "nbformat_minor": 0,
  "metadata": {
    "colab": {
      "provenance": [],
      "gpuType": "V28",
      "authorship_tag": "ABX9TyNoDaEc+nTxR6eRNzu7ohOS",
      "include_colab_link": true
    },
    "kernelspec": {
      "name": "python3",
      "display_name": "Python 3"
    },
    "language_info": {
      "name": "python"
    },
    "accelerator": "TPU",
    "widgets": {
      "application/vnd.jupyter.widget-state+json": {
        "19328da31a06489f986fd5e60b13c2c0": {
          "model_module": "@jupyter-widgets/controls",
          "model_name": "HBoxModel",
          "model_module_version": "1.5.0",
          "state": {
            "_dom_classes": [],
            "_model_module": "@jupyter-widgets/controls",
            "_model_module_version": "1.5.0",
            "_model_name": "HBoxModel",
            "_view_count": null,
            "_view_module": "@jupyter-widgets/controls",
            "_view_module_version": "1.5.0",
            "_view_name": "HBoxView",
            "box_style": "",
            "children": [
              "IPY_MODEL_58a690add23c43d8bd07dd91a83b7fcf",
              "IPY_MODEL_00b4086e5790404192a4591e98d636af",
              "IPY_MODEL_4f41d028c53e4581abb4bd986cc6b2d6"
            ],
            "layout": "IPY_MODEL_70b81644036a4374bf6dc206822d8783"
          }
        },
        "58a690add23c43d8bd07dd91a83b7fcf": {
          "model_module": "@jupyter-widgets/controls",
          "model_name": "HTMLModel",
          "model_module_version": "1.5.0",
          "state": {
            "_dom_classes": [],
            "_model_module": "@jupyter-widgets/controls",
            "_model_module_version": "1.5.0",
            "_model_name": "HTMLModel",
            "_view_count": null,
            "_view_module": "@jupyter-widgets/controls",
            "_view_module_version": "1.5.0",
            "_view_name": "HTMLView",
            "description": "",
            "description_tooltip": null,
            "layout": "IPY_MODEL_989a66b248ee4cbdb04c455a8cf9944f",
            "placeholder": "​",
            "style": "IPY_MODEL_26d8995b9bb448ba9d128a3a32707a77",
            "value": "Epoch 1 Training: "
          }
        },
        "00b4086e5790404192a4591e98d636af": {
          "model_module": "@jupyter-widgets/controls",
          "model_name": "FloatProgressModel",
          "model_module_version": "1.5.0",
          "state": {
            "_dom_classes": [],
            "_model_module": "@jupyter-widgets/controls",
            "_model_module_version": "1.5.0",
            "_model_name": "FloatProgressModel",
            "_view_count": null,
            "_view_module": "@jupyter-widgets/controls",
            "_view_module_version": "1.5.0",
            "_view_name": "ProgressView",
            "bar_style": "success",
            "description": "",
            "description_tooltip": null,
            "layout": "IPY_MODEL_6f2a337518944ce6837ce4c0ee064a02",
            "max": 1,
            "min": 0,
            "orientation": "horizontal",
            "style": "IPY_MODEL_729d8a41e56c425d857359af5253bb63",
            "value": 1
          }
        },
        "4f41d028c53e4581abb4bd986cc6b2d6": {
          "model_module": "@jupyter-widgets/controls",
          "model_name": "HTMLModel",
          "model_module_version": "1.5.0",
          "state": {
            "_dom_classes": [],
            "_model_module": "@jupyter-widgets/controls",
            "_model_module_version": "1.5.0",
            "_model_name": "HTMLModel",
            "_view_count": null,
            "_view_module": "@jupyter-widgets/controls",
            "_view_module_version": "1.5.0",
            "_view_name": "HTMLView",
            "description": "",
            "description_tooltip": null,
            "layout": "IPY_MODEL_7b8677a248ad48648c7f74a3ce561ff1",
            "placeholder": "​",
            "style": "IPY_MODEL_c5455eb29c1a46dc8a20a539c13a19d3",
            "value": " 215/? [01:29&lt;00:00,  9.86s/it]"
          }
        },
        "70b81644036a4374bf6dc206822d8783": {
          "model_module": "@jupyter-widgets/base",
          "model_name": "LayoutModel",
          "model_module_version": "1.2.0",
          "state": {
            "_model_module": "@jupyter-widgets/base",
            "_model_module_version": "1.2.0",
            "_model_name": "LayoutModel",
            "_view_count": null,
            "_view_module": "@jupyter-widgets/base",
            "_view_module_version": "1.2.0",
            "_view_name": "LayoutView",
            "align_content": null,
            "align_items": null,
            "align_self": null,
            "border": null,
            "bottom": null,
            "display": null,
            "flex": null,
            "flex_flow": null,
            "grid_area": null,
            "grid_auto_columns": null,
            "grid_auto_flow": null,
            "grid_auto_rows": null,
            "grid_column": null,
            "grid_gap": null,
            "grid_row": null,
            "grid_template_areas": null,
            "grid_template_columns": null,
            "grid_template_rows": null,
            "height": null,
            "justify_content": null,
            "justify_items": null,
            "left": null,
            "margin": null,
            "max_height": null,
            "max_width": null,
            "min_height": null,
            "min_width": null,
            "object_fit": null,
            "object_position": null,
            "order": null,
            "overflow": null,
            "overflow_x": null,
            "overflow_y": null,
            "padding": null,
            "right": null,
            "top": null,
            "visibility": null,
            "width": null
          }
        },
        "989a66b248ee4cbdb04c455a8cf9944f": {
          "model_module": "@jupyter-widgets/base",
          "model_name": "LayoutModel",
          "model_module_version": "1.2.0",
          "state": {
            "_model_module": "@jupyter-widgets/base",
            "_model_module_version": "1.2.0",
            "_model_name": "LayoutModel",
            "_view_count": null,
            "_view_module": "@jupyter-widgets/base",
            "_view_module_version": "1.2.0",
            "_view_name": "LayoutView",
            "align_content": null,
            "align_items": null,
            "align_self": null,
            "border": null,
            "bottom": null,
            "display": null,
            "flex": null,
            "flex_flow": null,
            "grid_area": null,
            "grid_auto_columns": null,
            "grid_auto_flow": null,
            "grid_auto_rows": null,
            "grid_column": null,
            "grid_gap": null,
            "grid_row": null,
            "grid_template_areas": null,
            "grid_template_columns": null,
            "grid_template_rows": null,
            "height": null,
            "justify_content": null,
            "justify_items": null,
            "left": null,
            "margin": null,
            "max_height": null,
            "max_width": null,
            "min_height": null,
            "min_width": null,
            "object_fit": null,
            "object_position": null,
            "order": null,
            "overflow": null,
            "overflow_x": null,
            "overflow_y": null,
            "padding": null,
            "right": null,
            "top": null,
            "visibility": null,
            "width": null
          }
        },
        "26d8995b9bb448ba9d128a3a32707a77": {
          "model_module": "@jupyter-widgets/controls",
          "model_name": "DescriptionStyleModel",
          "model_module_version": "1.5.0",
          "state": {
            "_model_module": "@jupyter-widgets/controls",
            "_model_module_version": "1.5.0",
            "_model_name": "DescriptionStyleModel",
            "_view_count": null,
            "_view_module": "@jupyter-widgets/base",
            "_view_module_version": "1.2.0",
            "_view_name": "StyleView",
            "description_width": ""
          }
        },
        "6f2a337518944ce6837ce4c0ee064a02": {
          "model_module": "@jupyter-widgets/base",
          "model_name": "LayoutModel",
          "model_module_version": "1.2.0",
          "state": {
            "_model_module": "@jupyter-widgets/base",
            "_model_module_version": "1.2.0",
            "_model_name": "LayoutModel",
            "_view_count": null,
            "_view_module": "@jupyter-widgets/base",
            "_view_module_version": "1.2.0",
            "_view_name": "LayoutView",
            "align_content": null,
            "align_items": null,
            "align_self": null,
            "border": null,
            "bottom": null,
            "display": null,
            "flex": null,
            "flex_flow": null,
            "grid_area": null,
            "grid_auto_columns": null,
            "grid_auto_flow": null,
            "grid_auto_rows": null,
            "grid_column": null,
            "grid_gap": null,
            "grid_row": null,
            "grid_template_areas": null,
            "grid_template_columns": null,
            "grid_template_rows": null,
            "height": null,
            "justify_content": null,
            "justify_items": null,
            "left": null,
            "margin": null,
            "max_height": null,
            "max_width": null,
            "min_height": null,
            "min_width": null,
            "object_fit": null,
            "object_position": null,
            "order": null,
            "overflow": null,
            "overflow_x": null,
            "overflow_y": null,
            "padding": null,
            "right": null,
            "top": null,
            "visibility": null,
            "width": "20px"
          }
        },
        "729d8a41e56c425d857359af5253bb63": {
          "model_module": "@jupyter-widgets/controls",
          "model_name": "ProgressStyleModel",
          "model_module_version": "1.5.0",
          "state": {
            "_model_module": "@jupyter-widgets/controls",
            "_model_module_version": "1.5.0",
            "_model_name": "ProgressStyleModel",
            "_view_count": null,
            "_view_module": "@jupyter-widgets/base",
            "_view_module_version": "1.2.0",
            "_view_name": "StyleView",
            "bar_color": null,
            "description_width": ""
          }
        },
        "7b8677a248ad48648c7f74a3ce561ff1": {
          "model_module": "@jupyter-widgets/base",
          "model_name": "LayoutModel",
          "model_module_version": "1.2.0",
          "state": {
            "_model_module": "@jupyter-widgets/base",
            "_model_module_version": "1.2.0",
            "_model_name": "LayoutModel",
            "_view_count": null,
            "_view_module": "@jupyter-widgets/base",
            "_view_module_version": "1.2.0",
            "_view_name": "LayoutView",
            "align_content": null,
            "align_items": null,
            "align_self": null,
            "border": null,
            "bottom": null,
            "display": null,
            "flex": null,
            "flex_flow": null,
            "grid_area": null,
            "grid_auto_columns": null,
            "grid_auto_flow": null,
            "grid_auto_rows": null,
            "grid_column": null,
            "grid_gap": null,
            "grid_row": null,
            "grid_template_areas": null,
            "grid_template_columns": null,
            "grid_template_rows": null,
            "height": null,
            "justify_content": null,
            "justify_items": null,
            "left": null,
            "margin": null,
            "max_height": null,
            "max_width": null,
            "min_height": null,
            "min_width": null,
            "object_fit": null,
            "object_position": null,
            "order": null,
            "overflow": null,
            "overflow_x": null,
            "overflow_y": null,
            "padding": null,
            "right": null,
            "top": null,
            "visibility": null,
            "width": null
          }
        },
        "c5455eb29c1a46dc8a20a539c13a19d3": {
          "model_module": "@jupyter-widgets/controls",
          "model_name": "DescriptionStyleModel",
          "model_module_version": "1.5.0",
          "state": {
            "_model_module": "@jupyter-widgets/controls",
            "_model_module_version": "1.5.0",
            "_model_name": "DescriptionStyleModel",
            "_view_count": null,
            "_view_module": "@jupyter-widgets/base",
            "_view_module_version": "1.2.0",
            "_view_name": "StyleView",
            "description_width": ""
          }
        },
        "fbe44b48baa941ce90ba6f891707272b": {
          "model_module": "@jupyter-widgets/controls",
          "model_name": "HBoxModel",
          "model_module_version": "1.5.0",
          "state": {
            "_dom_classes": [],
            "_model_module": "@jupyter-widgets/controls",
            "_model_module_version": "1.5.0",
            "_model_name": "HBoxModel",
            "_view_count": null,
            "_view_module": "@jupyter-widgets/controls",
            "_view_module_version": "1.5.0",
            "_view_name": "HBoxView",
            "box_style": "",
            "children": [
              "IPY_MODEL_a0b22d0e8d554bcaa5ebb0b293d44d8b",
              "IPY_MODEL_8a16521932914c1585efe98b5e49279b",
              "IPY_MODEL_a3128801f7364433b7461bc0db60a1b4"
            ],
            "layout": "IPY_MODEL_673e65e049f74475afbbb1c10c3c1f77"
          }
        },
        "a0b22d0e8d554bcaa5ebb0b293d44d8b": {
          "model_module": "@jupyter-widgets/controls",
          "model_name": "HTMLModel",
          "model_module_version": "1.5.0",
          "state": {
            "_dom_classes": [],
            "_model_module": "@jupyter-widgets/controls",
            "_model_module_version": "1.5.0",
            "_model_name": "HTMLModel",
            "_view_count": null,
            "_view_module": "@jupyter-widgets/controls",
            "_view_module_version": "1.5.0",
            "_view_name": "HTMLView",
            "description": "",
            "description_tooltip": null,
            "layout": "IPY_MODEL_d41362e5f2ba41b88d867b05e028e17b",
            "placeholder": "​",
            "style": "IPY_MODEL_a9615f0b7bb6405596cd5d60e37c5692",
            "value": "Epoch 2 Training: "
          }
        },
        "8a16521932914c1585efe98b5e49279b": {
          "model_module": "@jupyter-widgets/controls",
          "model_name": "FloatProgressModel",
          "model_module_version": "1.5.0",
          "state": {
            "_dom_classes": [],
            "_model_module": "@jupyter-widgets/controls",
            "_model_module_version": "1.5.0",
            "_model_name": "FloatProgressModel",
            "_view_count": null,
            "_view_module": "@jupyter-widgets/controls",
            "_view_module_version": "1.5.0",
            "_view_name": "ProgressView",
            "bar_style": "success",
            "description": "",
            "description_tooltip": null,
            "layout": "IPY_MODEL_f0d23d2c56ae4e42aeda53d70b3d6e2d",
            "max": 1,
            "min": 0,
            "orientation": "horizontal",
            "style": "IPY_MODEL_562964ef8c2b42659e8839411a3adf2d",
            "value": 1
          }
        },
        "a3128801f7364433b7461bc0db60a1b4": {
          "model_module": "@jupyter-widgets/controls",
          "model_name": "HTMLModel",
          "model_module_version": "1.5.0",
          "state": {
            "_dom_classes": [],
            "_model_module": "@jupyter-widgets/controls",
            "_model_module_version": "1.5.0",
            "_model_name": "HTMLModel",
            "_view_count": null,
            "_view_module": "@jupyter-widgets/controls",
            "_view_module_version": "1.5.0",
            "_view_name": "HTMLView",
            "description": "",
            "description_tooltip": null,
            "layout": "IPY_MODEL_820dfa21ef90478a92be79f9eb2263cd",
            "placeholder": "​",
            "style": "IPY_MODEL_6fc5ad713f9c4cdba176da2216d02d05",
            "value": " 215/? [00:32&lt;00:00,  6.45it/s]"
          }
        },
        "673e65e049f74475afbbb1c10c3c1f77": {
          "model_module": "@jupyter-widgets/base",
          "model_name": "LayoutModel",
          "model_module_version": "1.2.0",
          "state": {
            "_model_module": "@jupyter-widgets/base",
            "_model_module_version": "1.2.0",
            "_model_name": "LayoutModel",
            "_view_count": null,
            "_view_module": "@jupyter-widgets/base",
            "_view_module_version": "1.2.0",
            "_view_name": "LayoutView",
            "align_content": null,
            "align_items": null,
            "align_self": null,
            "border": null,
            "bottom": null,
            "display": null,
            "flex": null,
            "flex_flow": null,
            "grid_area": null,
            "grid_auto_columns": null,
            "grid_auto_flow": null,
            "grid_auto_rows": null,
            "grid_column": null,
            "grid_gap": null,
            "grid_row": null,
            "grid_template_areas": null,
            "grid_template_columns": null,
            "grid_template_rows": null,
            "height": null,
            "justify_content": null,
            "justify_items": null,
            "left": null,
            "margin": null,
            "max_height": null,
            "max_width": null,
            "min_height": null,
            "min_width": null,
            "object_fit": null,
            "object_position": null,
            "order": null,
            "overflow": null,
            "overflow_x": null,
            "overflow_y": null,
            "padding": null,
            "right": null,
            "top": null,
            "visibility": null,
            "width": null
          }
        },
        "d41362e5f2ba41b88d867b05e028e17b": {
          "model_module": "@jupyter-widgets/base",
          "model_name": "LayoutModel",
          "model_module_version": "1.2.0",
          "state": {
            "_model_module": "@jupyter-widgets/base",
            "_model_module_version": "1.2.0",
            "_model_name": "LayoutModel",
            "_view_count": null,
            "_view_module": "@jupyter-widgets/base",
            "_view_module_version": "1.2.0",
            "_view_name": "LayoutView",
            "align_content": null,
            "align_items": null,
            "align_self": null,
            "border": null,
            "bottom": null,
            "display": null,
            "flex": null,
            "flex_flow": null,
            "grid_area": null,
            "grid_auto_columns": null,
            "grid_auto_flow": null,
            "grid_auto_rows": null,
            "grid_column": null,
            "grid_gap": null,
            "grid_row": null,
            "grid_template_areas": null,
            "grid_template_columns": null,
            "grid_template_rows": null,
            "height": null,
            "justify_content": null,
            "justify_items": null,
            "left": null,
            "margin": null,
            "max_height": null,
            "max_width": null,
            "min_height": null,
            "min_width": null,
            "object_fit": null,
            "object_position": null,
            "order": null,
            "overflow": null,
            "overflow_x": null,
            "overflow_y": null,
            "padding": null,
            "right": null,
            "top": null,
            "visibility": null,
            "width": null
          }
        },
        "a9615f0b7bb6405596cd5d60e37c5692": {
          "model_module": "@jupyter-widgets/controls",
          "model_name": "DescriptionStyleModel",
          "model_module_version": "1.5.0",
          "state": {
            "_model_module": "@jupyter-widgets/controls",
            "_model_module_version": "1.5.0",
            "_model_name": "DescriptionStyleModel",
            "_view_count": null,
            "_view_module": "@jupyter-widgets/base",
            "_view_module_version": "1.2.0",
            "_view_name": "StyleView",
            "description_width": ""
          }
        },
        "f0d23d2c56ae4e42aeda53d70b3d6e2d": {
          "model_module": "@jupyter-widgets/base",
          "model_name": "LayoutModel",
          "model_module_version": "1.2.0",
          "state": {
            "_model_module": "@jupyter-widgets/base",
            "_model_module_version": "1.2.0",
            "_model_name": "LayoutModel",
            "_view_count": null,
            "_view_module": "@jupyter-widgets/base",
            "_view_module_version": "1.2.0",
            "_view_name": "LayoutView",
            "align_content": null,
            "align_items": null,
            "align_self": null,
            "border": null,
            "bottom": null,
            "display": null,
            "flex": null,
            "flex_flow": null,
            "grid_area": null,
            "grid_auto_columns": null,
            "grid_auto_flow": null,
            "grid_auto_rows": null,
            "grid_column": null,
            "grid_gap": null,
            "grid_row": null,
            "grid_template_areas": null,
            "grid_template_columns": null,
            "grid_template_rows": null,
            "height": null,
            "justify_content": null,
            "justify_items": null,
            "left": null,
            "margin": null,
            "max_height": null,
            "max_width": null,
            "min_height": null,
            "min_width": null,
            "object_fit": null,
            "object_position": null,
            "order": null,
            "overflow": null,
            "overflow_x": null,
            "overflow_y": null,
            "padding": null,
            "right": null,
            "top": null,
            "visibility": null,
            "width": "20px"
          }
        },
        "562964ef8c2b42659e8839411a3adf2d": {
          "model_module": "@jupyter-widgets/controls",
          "model_name": "ProgressStyleModel",
          "model_module_version": "1.5.0",
          "state": {
            "_model_module": "@jupyter-widgets/controls",
            "_model_module_version": "1.5.0",
            "_model_name": "ProgressStyleModel",
            "_view_count": null,
            "_view_module": "@jupyter-widgets/base",
            "_view_module_version": "1.2.0",
            "_view_name": "StyleView",
            "bar_color": null,
            "description_width": ""
          }
        },
        "820dfa21ef90478a92be79f9eb2263cd": {
          "model_module": "@jupyter-widgets/base",
          "model_name": "LayoutModel",
          "model_module_version": "1.2.0",
          "state": {
            "_model_module": "@jupyter-widgets/base",
            "_model_module_version": "1.2.0",
            "_model_name": "LayoutModel",
            "_view_count": null,
            "_view_module": "@jupyter-widgets/base",
            "_view_module_version": "1.2.0",
            "_view_name": "LayoutView",
            "align_content": null,
            "align_items": null,
            "align_self": null,
            "border": null,
            "bottom": null,
            "display": null,
            "flex": null,
            "flex_flow": null,
            "grid_area": null,
            "grid_auto_columns": null,
            "grid_auto_flow": null,
            "grid_auto_rows": null,
            "grid_column": null,
            "grid_gap": null,
            "grid_row": null,
            "grid_template_areas": null,
            "grid_template_columns": null,
            "grid_template_rows": null,
            "height": null,
            "justify_content": null,
            "justify_items": null,
            "left": null,
            "margin": null,
            "max_height": null,
            "max_width": null,
            "min_height": null,
            "min_width": null,
            "object_fit": null,
            "object_position": null,
            "order": null,
            "overflow": null,
            "overflow_x": null,
            "overflow_y": null,
            "padding": null,
            "right": null,
            "top": null,
            "visibility": null,
            "width": null
          }
        },
        "6fc5ad713f9c4cdba176da2216d02d05": {
          "model_module": "@jupyter-widgets/controls",
          "model_name": "DescriptionStyleModel",
          "model_module_version": "1.5.0",
          "state": {
            "_model_module": "@jupyter-widgets/controls",
            "_model_module_version": "1.5.0",
            "_model_name": "DescriptionStyleModel",
            "_view_count": null,
            "_view_module": "@jupyter-widgets/base",
            "_view_module_version": "1.2.0",
            "_view_name": "StyleView",
            "description_width": ""
          }
        },
        "383c5f5785c445f2a68633a954737153": {
          "model_module": "@jupyter-widgets/controls",
          "model_name": "HBoxModel",
          "model_module_version": "1.5.0",
          "state": {
            "_dom_classes": [],
            "_model_module": "@jupyter-widgets/controls",
            "_model_module_version": "1.5.0",
            "_model_name": "HBoxModel",
            "_view_count": null,
            "_view_module": "@jupyter-widgets/controls",
            "_view_module_version": "1.5.0",
            "_view_name": "HBoxView",
            "box_style": "",
            "children": [
              "IPY_MODEL_50149601221c4679bcccc7b18fb7efee",
              "IPY_MODEL_4ee79bbbe800437abe792ae769be005c",
              "IPY_MODEL_1108c98b0fe84c5f9ff2775f9fcaad18"
            ],
            "layout": "IPY_MODEL_46a0a4e6b3644388b52b0bb05873cf7b"
          }
        },
        "50149601221c4679bcccc7b18fb7efee": {
          "model_module": "@jupyter-widgets/controls",
          "model_name": "HTMLModel",
          "model_module_version": "1.5.0",
          "state": {
            "_dom_classes": [],
            "_model_module": "@jupyter-widgets/controls",
            "_model_module_version": "1.5.0",
            "_model_name": "HTMLModel",
            "_view_count": null,
            "_view_module": "@jupyter-widgets/controls",
            "_view_module_version": "1.5.0",
            "_view_name": "HTMLView",
            "description": "",
            "description_tooltip": null,
            "layout": "IPY_MODEL_e2639ebf830d4fb98ec25d460af4be3f",
            "placeholder": "​",
            "style": "IPY_MODEL_4d6a6412cf1e4511bdab6f090e72c1b8",
            "value": "Epoch 3 Training: "
          }
        },
        "4ee79bbbe800437abe792ae769be005c": {
          "model_module": "@jupyter-widgets/controls",
          "model_name": "FloatProgressModel",
          "model_module_version": "1.5.0",
          "state": {
            "_dom_classes": [],
            "_model_module": "@jupyter-widgets/controls",
            "_model_module_version": "1.5.0",
            "_model_name": "FloatProgressModel",
            "_view_count": null,
            "_view_module": "@jupyter-widgets/controls",
            "_view_module_version": "1.5.0",
            "_view_name": "ProgressView",
            "bar_style": "success",
            "description": "",
            "description_tooltip": null,
            "layout": "IPY_MODEL_ee100b12c8cc4806918b7d50c95877b0",
            "max": 1,
            "min": 0,
            "orientation": "horizontal",
            "style": "IPY_MODEL_c31317b4cd61485485142e7a839a82d7",
            "value": 1
          }
        },
        "1108c98b0fe84c5f9ff2775f9fcaad18": {
          "model_module": "@jupyter-widgets/controls",
          "model_name": "HTMLModel",
          "model_module_version": "1.5.0",
          "state": {
            "_dom_classes": [],
            "_model_module": "@jupyter-widgets/controls",
            "_model_module_version": "1.5.0",
            "_model_name": "HTMLModel",
            "_view_count": null,
            "_view_module": "@jupyter-widgets/controls",
            "_view_module_version": "1.5.0",
            "_view_name": "HTMLView",
            "description": "",
            "description_tooltip": null,
            "layout": "IPY_MODEL_91d040ce6afc4fa2b866ebf0dd4eb7ad",
            "placeholder": "​",
            "style": "IPY_MODEL_b41b19a4eebd435e8ecef7926a578cb4",
            "value": " 215/? [00:33&lt;00:00,  6.38it/s]"
          }
        },
        "46a0a4e6b3644388b52b0bb05873cf7b": {
          "model_module": "@jupyter-widgets/base",
          "model_name": "LayoutModel",
          "model_module_version": "1.2.0",
          "state": {
            "_model_module": "@jupyter-widgets/base",
            "_model_module_version": "1.2.0",
            "_model_name": "LayoutModel",
            "_view_count": null,
            "_view_module": "@jupyter-widgets/base",
            "_view_module_version": "1.2.0",
            "_view_name": "LayoutView",
            "align_content": null,
            "align_items": null,
            "align_self": null,
            "border": null,
            "bottom": null,
            "display": null,
            "flex": null,
            "flex_flow": null,
            "grid_area": null,
            "grid_auto_columns": null,
            "grid_auto_flow": null,
            "grid_auto_rows": null,
            "grid_column": null,
            "grid_gap": null,
            "grid_row": null,
            "grid_template_areas": null,
            "grid_template_columns": null,
            "grid_template_rows": null,
            "height": null,
            "justify_content": null,
            "justify_items": null,
            "left": null,
            "margin": null,
            "max_height": null,
            "max_width": null,
            "min_height": null,
            "min_width": null,
            "object_fit": null,
            "object_position": null,
            "order": null,
            "overflow": null,
            "overflow_x": null,
            "overflow_y": null,
            "padding": null,
            "right": null,
            "top": null,
            "visibility": null,
            "width": null
          }
        },
        "e2639ebf830d4fb98ec25d460af4be3f": {
          "model_module": "@jupyter-widgets/base",
          "model_name": "LayoutModel",
          "model_module_version": "1.2.0",
          "state": {
            "_model_module": "@jupyter-widgets/base",
            "_model_module_version": "1.2.0",
            "_model_name": "LayoutModel",
            "_view_count": null,
            "_view_module": "@jupyter-widgets/base",
            "_view_module_version": "1.2.0",
            "_view_name": "LayoutView",
            "align_content": null,
            "align_items": null,
            "align_self": null,
            "border": null,
            "bottom": null,
            "display": null,
            "flex": null,
            "flex_flow": null,
            "grid_area": null,
            "grid_auto_columns": null,
            "grid_auto_flow": null,
            "grid_auto_rows": null,
            "grid_column": null,
            "grid_gap": null,
            "grid_row": null,
            "grid_template_areas": null,
            "grid_template_columns": null,
            "grid_template_rows": null,
            "height": null,
            "justify_content": null,
            "justify_items": null,
            "left": null,
            "margin": null,
            "max_height": null,
            "max_width": null,
            "min_height": null,
            "min_width": null,
            "object_fit": null,
            "object_position": null,
            "order": null,
            "overflow": null,
            "overflow_x": null,
            "overflow_y": null,
            "padding": null,
            "right": null,
            "top": null,
            "visibility": null,
            "width": null
          }
        },
        "4d6a6412cf1e4511bdab6f090e72c1b8": {
          "model_module": "@jupyter-widgets/controls",
          "model_name": "DescriptionStyleModel",
          "model_module_version": "1.5.0",
          "state": {
            "_model_module": "@jupyter-widgets/controls",
            "_model_module_version": "1.5.0",
            "_model_name": "DescriptionStyleModel",
            "_view_count": null,
            "_view_module": "@jupyter-widgets/base",
            "_view_module_version": "1.2.0",
            "_view_name": "StyleView",
            "description_width": ""
          }
        },
        "ee100b12c8cc4806918b7d50c95877b0": {
          "model_module": "@jupyter-widgets/base",
          "model_name": "LayoutModel",
          "model_module_version": "1.2.0",
          "state": {
            "_model_module": "@jupyter-widgets/base",
            "_model_module_version": "1.2.0",
            "_model_name": "LayoutModel",
            "_view_count": null,
            "_view_module": "@jupyter-widgets/base",
            "_view_module_version": "1.2.0",
            "_view_name": "LayoutView",
            "align_content": null,
            "align_items": null,
            "align_self": null,
            "border": null,
            "bottom": null,
            "display": null,
            "flex": null,
            "flex_flow": null,
            "grid_area": null,
            "grid_auto_columns": null,
            "grid_auto_flow": null,
            "grid_auto_rows": null,
            "grid_column": null,
            "grid_gap": null,
            "grid_row": null,
            "grid_template_areas": null,
            "grid_template_columns": null,
            "grid_template_rows": null,
            "height": null,
            "justify_content": null,
            "justify_items": null,
            "left": null,
            "margin": null,
            "max_height": null,
            "max_width": null,
            "min_height": null,
            "min_width": null,
            "object_fit": null,
            "object_position": null,
            "order": null,
            "overflow": null,
            "overflow_x": null,
            "overflow_y": null,
            "padding": null,
            "right": null,
            "top": null,
            "visibility": null,
            "width": "20px"
          }
        },
        "c31317b4cd61485485142e7a839a82d7": {
          "model_module": "@jupyter-widgets/controls",
          "model_name": "ProgressStyleModel",
          "model_module_version": "1.5.0",
          "state": {
            "_model_module": "@jupyter-widgets/controls",
            "_model_module_version": "1.5.0",
            "_model_name": "ProgressStyleModel",
            "_view_count": null,
            "_view_module": "@jupyter-widgets/base",
            "_view_module_version": "1.2.0",
            "_view_name": "StyleView",
            "bar_color": null,
            "description_width": ""
          }
        },
        "91d040ce6afc4fa2b866ebf0dd4eb7ad": {
          "model_module": "@jupyter-widgets/base",
          "model_name": "LayoutModel",
          "model_module_version": "1.2.0",
          "state": {
            "_model_module": "@jupyter-widgets/base",
            "_model_module_version": "1.2.0",
            "_model_name": "LayoutModel",
            "_view_count": null,
            "_view_module": "@jupyter-widgets/base",
            "_view_module_version": "1.2.0",
            "_view_name": "LayoutView",
            "align_content": null,
            "align_items": null,
            "align_self": null,
            "border": null,
            "bottom": null,
            "display": null,
            "flex": null,
            "flex_flow": null,
            "grid_area": null,
            "grid_auto_columns": null,
            "grid_auto_flow": null,
            "grid_auto_rows": null,
            "grid_column": null,
            "grid_gap": null,
            "grid_row": null,
            "grid_template_areas": null,
            "grid_template_columns": null,
            "grid_template_rows": null,
            "height": null,
            "justify_content": null,
            "justify_items": null,
            "left": null,
            "margin": null,
            "max_height": null,
            "max_width": null,
            "min_height": null,
            "min_width": null,
            "object_fit": null,
            "object_position": null,
            "order": null,
            "overflow": null,
            "overflow_x": null,
            "overflow_y": null,
            "padding": null,
            "right": null,
            "top": null,
            "visibility": null,
            "width": null
          }
        },
        "b41b19a4eebd435e8ecef7926a578cb4": {
          "model_module": "@jupyter-widgets/controls",
          "model_name": "DescriptionStyleModel",
          "model_module_version": "1.5.0",
          "state": {
            "_model_module": "@jupyter-widgets/controls",
            "_model_module_version": "1.5.0",
            "_model_name": "DescriptionStyleModel",
            "_view_count": null,
            "_view_module": "@jupyter-widgets/base",
            "_view_module_version": "1.2.0",
            "_view_name": "StyleView",
            "description_width": ""
          }
        },
        "35ff440868ed41e787bfed0e5dbfc127": {
          "model_module": "@jupyter-widgets/controls",
          "model_name": "HBoxModel",
          "model_module_version": "1.5.0",
          "state": {
            "_dom_classes": [],
            "_model_module": "@jupyter-widgets/controls",
            "_model_module_version": "1.5.0",
            "_model_name": "HBoxModel",
            "_view_count": null,
            "_view_module": "@jupyter-widgets/controls",
            "_view_module_version": "1.5.0",
            "_view_name": "HBoxView",
            "box_style": "",
            "children": [
              "IPY_MODEL_4197ef5e86e84c3cb63c3b829b9f1a37",
              "IPY_MODEL_9ce622c897954b17b6b646d424d05d0f",
              "IPY_MODEL_fa90e4b382d04035a5c4dcd88bf9b6a6"
            ],
            "layout": "IPY_MODEL_8fe1dc17a6854da896c06edd3791e467"
          }
        },
        "4197ef5e86e84c3cb63c3b829b9f1a37": {
          "model_module": "@jupyter-widgets/controls",
          "model_name": "HTMLModel",
          "model_module_version": "1.5.0",
          "state": {
            "_dom_classes": [],
            "_model_module": "@jupyter-widgets/controls",
            "_model_module_version": "1.5.0",
            "_model_name": "HTMLModel",
            "_view_count": null,
            "_view_module": "@jupyter-widgets/controls",
            "_view_module_version": "1.5.0",
            "_view_name": "HTMLView",
            "description": "",
            "description_tooltip": null,
            "layout": "IPY_MODEL_5084b963defa48e1892e0c6ffecd7e53",
            "placeholder": "​",
            "style": "IPY_MODEL_ad850b871a7647f79a8dd574d52531b2",
            "value": "Epoch 4 Training: "
          }
        },
        "9ce622c897954b17b6b646d424d05d0f": {
          "model_module": "@jupyter-widgets/controls",
          "model_name": "FloatProgressModel",
          "model_module_version": "1.5.0",
          "state": {
            "_dom_classes": [],
            "_model_module": "@jupyter-widgets/controls",
            "_model_module_version": "1.5.0",
            "_model_name": "FloatProgressModel",
            "_view_count": null,
            "_view_module": "@jupyter-widgets/controls",
            "_view_module_version": "1.5.0",
            "_view_name": "ProgressView",
            "bar_style": "success",
            "description": "",
            "description_tooltip": null,
            "layout": "IPY_MODEL_2d3db691cd884de9acd3547a20643a94",
            "max": 1,
            "min": 0,
            "orientation": "horizontal",
            "style": "IPY_MODEL_20f685495b0440c583f01ab3ef0a24bb",
            "value": 1
          }
        },
        "fa90e4b382d04035a5c4dcd88bf9b6a6": {
          "model_module": "@jupyter-widgets/controls",
          "model_name": "HTMLModel",
          "model_module_version": "1.5.0",
          "state": {
            "_dom_classes": [],
            "_model_module": "@jupyter-widgets/controls",
            "_model_module_version": "1.5.0",
            "_model_name": "HTMLModel",
            "_view_count": null,
            "_view_module": "@jupyter-widgets/controls",
            "_view_module_version": "1.5.0",
            "_view_name": "HTMLView",
            "description": "",
            "description_tooltip": null,
            "layout": "IPY_MODEL_1b090adc7aa048b2b2e10e875571e8b7",
            "placeholder": "​",
            "style": "IPY_MODEL_9329b5083dcb448a90a9994016154728",
            "value": " 215/? [00:32&lt;00:00,  6.46it/s]"
          }
        },
        "8fe1dc17a6854da896c06edd3791e467": {
          "model_module": "@jupyter-widgets/base",
          "model_name": "LayoutModel",
          "model_module_version": "1.2.0",
          "state": {
            "_model_module": "@jupyter-widgets/base",
            "_model_module_version": "1.2.0",
            "_model_name": "LayoutModel",
            "_view_count": null,
            "_view_module": "@jupyter-widgets/base",
            "_view_module_version": "1.2.0",
            "_view_name": "LayoutView",
            "align_content": null,
            "align_items": null,
            "align_self": null,
            "border": null,
            "bottom": null,
            "display": null,
            "flex": null,
            "flex_flow": null,
            "grid_area": null,
            "grid_auto_columns": null,
            "grid_auto_flow": null,
            "grid_auto_rows": null,
            "grid_column": null,
            "grid_gap": null,
            "grid_row": null,
            "grid_template_areas": null,
            "grid_template_columns": null,
            "grid_template_rows": null,
            "height": null,
            "justify_content": null,
            "justify_items": null,
            "left": null,
            "margin": null,
            "max_height": null,
            "max_width": null,
            "min_height": null,
            "min_width": null,
            "object_fit": null,
            "object_position": null,
            "order": null,
            "overflow": null,
            "overflow_x": null,
            "overflow_y": null,
            "padding": null,
            "right": null,
            "top": null,
            "visibility": null,
            "width": null
          }
        },
        "5084b963defa48e1892e0c6ffecd7e53": {
          "model_module": "@jupyter-widgets/base",
          "model_name": "LayoutModel",
          "model_module_version": "1.2.0",
          "state": {
            "_model_module": "@jupyter-widgets/base",
            "_model_module_version": "1.2.0",
            "_model_name": "LayoutModel",
            "_view_count": null,
            "_view_module": "@jupyter-widgets/base",
            "_view_module_version": "1.2.0",
            "_view_name": "LayoutView",
            "align_content": null,
            "align_items": null,
            "align_self": null,
            "border": null,
            "bottom": null,
            "display": null,
            "flex": null,
            "flex_flow": null,
            "grid_area": null,
            "grid_auto_columns": null,
            "grid_auto_flow": null,
            "grid_auto_rows": null,
            "grid_column": null,
            "grid_gap": null,
            "grid_row": null,
            "grid_template_areas": null,
            "grid_template_columns": null,
            "grid_template_rows": null,
            "height": null,
            "justify_content": null,
            "justify_items": null,
            "left": null,
            "margin": null,
            "max_height": null,
            "max_width": null,
            "min_height": null,
            "min_width": null,
            "object_fit": null,
            "object_position": null,
            "order": null,
            "overflow": null,
            "overflow_x": null,
            "overflow_y": null,
            "padding": null,
            "right": null,
            "top": null,
            "visibility": null,
            "width": null
          }
        },
        "ad850b871a7647f79a8dd574d52531b2": {
          "model_module": "@jupyter-widgets/controls",
          "model_name": "DescriptionStyleModel",
          "model_module_version": "1.5.0",
          "state": {
            "_model_module": "@jupyter-widgets/controls",
            "_model_module_version": "1.5.0",
            "_model_name": "DescriptionStyleModel",
            "_view_count": null,
            "_view_module": "@jupyter-widgets/base",
            "_view_module_version": "1.2.0",
            "_view_name": "StyleView",
            "description_width": ""
          }
        },
        "2d3db691cd884de9acd3547a20643a94": {
          "model_module": "@jupyter-widgets/base",
          "model_name": "LayoutModel",
          "model_module_version": "1.2.0",
          "state": {
            "_model_module": "@jupyter-widgets/base",
            "_model_module_version": "1.2.0",
            "_model_name": "LayoutModel",
            "_view_count": null,
            "_view_module": "@jupyter-widgets/base",
            "_view_module_version": "1.2.0",
            "_view_name": "LayoutView",
            "align_content": null,
            "align_items": null,
            "align_self": null,
            "border": null,
            "bottom": null,
            "display": null,
            "flex": null,
            "flex_flow": null,
            "grid_area": null,
            "grid_auto_columns": null,
            "grid_auto_flow": null,
            "grid_auto_rows": null,
            "grid_column": null,
            "grid_gap": null,
            "grid_row": null,
            "grid_template_areas": null,
            "grid_template_columns": null,
            "grid_template_rows": null,
            "height": null,
            "justify_content": null,
            "justify_items": null,
            "left": null,
            "margin": null,
            "max_height": null,
            "max_width": null,
            "min_height": null,
            "min_width": null,
            "object_fit": null,
            "object_position": null,
            "order": null,
            "overflow": null,
            "overflow_x": null,
            "overflow_y": null,
            "padding": null,
            "right": null,
            "top": null,
            "visibility": null,
            "width": "20px"
          }
        },
        "20f685495b0440c583f01ab3ef0a24bb": {
          "model_module": "@jupyter-widgets/controls",
          "model_name": "ProgressStyleModel",
          "model_module_version": "1.5.0",
          "state": {
            "_model_module": "@jupyter-widgets/controls",
            "_model_module_version": "1.5.0",
            "_model_name": "ProgressStyleModel",
            "_view_count": null,
            "_view_module": "@jupyter-widgets/base",
            "_view_module_version": "1.2.0",
            "_view_name": "StyleView",
            "bar_color": null,
            "description_width": ""
          }
        },
        "1b090adc7aa048b2b2e10e875571e8b7": {
          "model_module": "@jupyter-widgets/base",
          "model_name": "LayoutModel",
          "model_module_version": "1.2.0",
          "state": {
            "_model_module": "@jupyter-widgets/base",
            "_model_module_version": "1.2.0",
            "_model_name": "LayoutModel",
            "_view_count": null,
            "_view_module": "@jupyter-widgets/base",
            "_view_module_version": "1.2.0",
            "_view_name": "LayoutView",
            "align_content": null,
            "align_items": null,
            "align_self": null,
            "border": null,
            "bottom": null,
            "display": null,
            "flex": null,
            "flex_flow": null,
            "grid_area": null,
            "grid_auto_columns": null,
            "grid_auto_flow": null,
            "grid_auto_rows": null,
            "grid_column": null,
            "grid_gap": null,
            "grid_row": null,
            "grid_template_areas": null,
            "grid_template_columns": null,
            "grid_template_rows": null,
            "height": null,
            "justify_content": null,
            "justify_items": null,
            "left": null,
            "margin": null,
            "max_height": null,
            "max_width": null,
            "min_height": null,
            "min_width": null,
            "object_fit": null,
            "object_position": null,
            "order": null,
            "overflow": null,
            "overflow_x": null,
            "overflow_y": null,
            "padding": null,
            "right": null,
            "top": null,
            "visibility": null,
            "width": null
          }
        },
        "9329b5083dcb448a90a9994016154728": {
          "model_module": "@jupyter-widgets/controls",
          "model_name": "DescriptionStyleModel",
          "model_module_version": "1.5.0",
          "state": {
            "_model_module": "@jupyter-widgets/controls",
            "_model_module_version": "1.5.0",
            "_model_name": "DescriptionStyleModel",
            "_view_count": null,
            "_view_module": "@jupyter-widgets/base",
            "_view_module_version": "1.2.0",
            "_view_name": "StyleView",
            "description_width": ""
          }
        },
        "e7e31ac7cd104982ae6787071d9673a8": {
          "model_module": "@jupyter-widgets/controls",
          "model_name": "HBoxModel",
          "model_module_version": "1.5.0",
          "state": {
            "_dom_classes": [],
            "_model_module": "@jupyter-widgets/controls",
            "_model_module_version": "1.5.0",
            "_model_name": "HBoxModel",
            "_view_count": null,
            "_view_module": "@jupyter-widgets/controls",
            "_view_module_version": "1.5.0",
            "_view_name": "HBoxView",
            "box_style": "",
            "children": [
              "IPY_MODEL_36d7e13e8125461d9e8b586e176095e6",
              "IPY_MODEL_afeebf0965e2405aa569828442334ffa",
              "IPY_MODEL_3c64825d78554632b07d78d3343b68de"
            ],
            "layout": "IPY_MODEL_98568cdee4864f2199cfbf4ff31c1b0e"
          }
        },
        "36d7e13e8125461d9e8b586e176095e6": {
          "model_module": "@jupyter-widgets/controls",
          "model_name": "HTMLModel",
          "model_module_version": "1.5.0",
          "state": {
            "_dom_classes": [],
            "_model_module": "@jupyter-widgets/controls",
            "_model_module_version": "1.5.0",
            "_model_name": "HTMLModel",
            "_view_count": null,
            "_view_module": "@jupyter-widgets/controls",
            "_view_module_version": "1.5.0",
            "_view_name": "HTMLView",
            "description": "",
            "description_tooltip": null,
            "layout": "IPY_MODEL_e5db95f482d440a5b41a5ca64787659d",
            "placeholder": "​",
            "style": "IPY_MODEL_fb63ebe839824a93a4b0d227f99abf7c",
            "value": "Epoch 5 Training: "
          }
        },
        "afeebf0965e2405aa569828442334ffa": {
          "model_module": "@jupyter-widgets/controls",
          "model_name": "FloatProgressModel",
          "model_module_version": "1.5.0",
          "state": {
            "_dom_classes": [],
            "_model_module": "@jupyter-widgets/controls",
            "_model_module_version": "1.5.0",
            "_model_name": "FloatProgressModel",
            "_view_count": null,
            "_view_module": "@jupyter-widgets/controls",
            "_view_module_version": "1.5.0",
            "_view_name": "ProgressView",
            "bar_style": "success",
            "description": "",
            "description_tooltip": null,
            "layout": "IPY_MODEL_521b719ec5024effa522ece00c072172",
            "max": 1,
            "min": 0,
            "orientation": "horizontal",
            "style": "IPY_MODEL_fb1cf598b0404a9e8bf5c9bc9d353eba",
            "value": 1
          }
        },
        "3c64825d78554632b07d78d3343b68de": {
          "model_module": "@jupyter-widgets/controls",
          "model_name": "HTMLModel",
          "model_module_version": "1.5.0",
          "state": {
            "_dom_classes": [],
            "_model_module": "@jupyter-widgets/controls",
            "_model_module_version": "1.5.0",
            "_model_name": "HTMLModel",
            "_view_count": null,
            "_view_module": "@jupyter-widgets/controls",
            "_view_module_version": "1.5.0",
            "_view_name": "HTMLView",
            "description": "",
            "description_tooltip": null,
            "layout": "IPY_MODEL_244bfcdfe75b4943842840ba8d811725",
            "placeholder": "​",
            "style": "IPY_MODEL_c13d4d02fae246c39ca2bdddafbb0189",
            "value": " 215/? [00:32&lt;00:00,  6.44it/s]"
          }
        },
        "98568cdee4864f2199cfbf4ff31c1b0e": {
          "model_module": "@jupyter-widgets/base",
          "model_name": "LayoutModel",
          "model_module_version": "1.2.0",
          "state": {
            "_model_module": "@jupyter-widgets/base",
            "_model_module_version": "1.2.0",
            "_model_name": "LayoutModel",
            "_view_count": null,
            "_view_module": "@jupyter-widgets/base",
            "_view_module_version": "1.2.0",
            "_view_name": "LayoutView",
            "align_content": null,
            "align_items": null,
            "align_self": null,
            "border": null,
            "bottom": null,
            "display": null,
            "flex": null,
            "flex_flow": null,
            "grid_area": null,
            "grid_auto_columns": null,
            "grid_auto_flow": null,
            "grid_auto_rows": null,
            "grid_column": null,
            "grid_gap": null,
            "grid_row": null,
            "grid_template_areas": null,
            "grid_template_columns": null,
            "grid_template_rows": null,
            "height": null,
            "justify_content": null,
            "justify_items": null,
            "left": null,
            "margin": null,
            "max_height": null,
            "max_width": null,
            "min_height": null,
            "min_width": null,
            "object_fit": null,
            "object_position": null,
            "order": null,
            "overflow": null,
            "overflow_x": null,
            "overflow_y": null,
            "padding": null,
            "right": null,
            "top": null,
            "visibility": null,
            "width": null
          }
        },
        "e5db95f482d440a5b41a5ca64787659d": {
          "model_module": "@jupyter-widgets/base",
          "model_name": "LayoutModel",
          "model_module_version": "1.2.0",
          "state": {
            "_model_module": "@jupyter-widgets/base",
            "_model_module_version": "1.2.0",
            "_model_name": "LayoutModel",
            "_view_count": null,
            "_view_module": "@jupyter-widgets/base",
            "_view_module_version": "1.2.0",
            "_view_name": "LayoutView",
            "align_content": null,
            "align_items": null,
            "align_self": null,
            "border": null,
            "bottom": null,
            "display": null,
            "flex": null,
            "flex_flow": null,
            "grid_area": null,
            "grid_auto_columns": null,
            "grid_auto_flow": null,
            "grid_auto_rows": null,
            "grid_column": null,
            "grid_gap": null,
            "grid_row": null,
            "grid_template_areas": null,
            "grid_template_columns": null,
            "grid_template_rows": null,
            "height": null,
            "justify_content": null,
            "justify_items": null,
            "left": null,
            "margin": null,
            "max_height": null,
            "max_width": null,
            "min_height": null,
            "min_width": null,
            "object_fit": null,
            "object_position": null,
            "order": null,
            "overflow": null,
            "overflow_x": null,
            "overflow_y": null,
            "padding": null,
            "right": null,
            "top": null,
            "visibility": null,
            "width": null
          }
        },
        "fb63ebe839824a93a4b0d227f99abf7c": {
          "model_module": "@jupyter-widgets/controls",
          "model_name": "DescriptionStyleModel",
          "model_module_version": "1.5.0",
          "state": {
            "_model_module": "@jupyter-widgets/controls",
            "_model_module_version": "1.5.0",
            "_model_name": "DescriptionStyleModel",
            "_view_count": null,
            "_view_module": "@jupyter-widgets/base",
            "_view_module_version": "1.2.0",
            "_view_name": "StyleView",
            "description_width": ""
          }
        },
        "521b719ec5024effa522ece00c072172": {
          "model_module": "@jupyter-widgets/base",
          "model_name": "LayoutModel",
          "model_module_version": "1.2.0",
          "state": {
            "_model_module": "@jupyter-widgets/base",
            "_model_module_version": "1.2.0",
            "_model_name": "LayoutModel",
            "_view_count": null,
            "_view_module": "@jupyter-widgets/base",
            "_view_module_version": "1.2.0",
            "_view_name": "LayoutView",
            "align_content": null,
            "align_items": null,
            "align_self": null,
            "border": null,
            "bottom": null,
            "display": null,
            "flex": null,
            "flex_flow": null,
            "grid_area": null,
            "grid_auto_columns": null,
            "grid_auto_flow": null,
            "grid_auto_rows": null,
            "grid_column": null,
            "grid_gap": null,
            "grid_row": null,
            "grid_template_areas": null,
            "grid_template_columns": null,
            "grid_template_rows": null,
            "height": null,
            "justify_content": null,
            "justify_items": null,
            "left": null,
            "margin": null,
            "max_height": null,
            "max_width": null,
            "min_height": null,
            "min_width": null,
            "object_fit": null,
            "object_position": null,
            "order": null,
            "overflow": null,
            "overflow_x": null,
            "overflow_y": null,
            "padding": null,
            "right": null,
            "top": null,
            "visibility": null,
            "width": "20px"
          }
        },
        "fb1cf598b0404a9e8bf5c9bc9d353eba": {
          "model_module": "@jupyter-widgets/controls",
          "model_name": "ProgressStyleModel",
          "model_module_version": "1.5.0",
          "state": {
            "_model_module": "@jupyter-widgets/controls",
            "_model_module_version": "1.5.0",
            "_model_name": "ProgressStyleModel",
            "_view_count": null,
            "_view_module": "@jupyter-widgets/base",
            "_view_module_version": "1.2.0",
            "_view_name": "StyleView",
            "bar_color": null,
            "description_width": ""
          }
        },
        "244bfcdfe75b4943842840ba8d811725": {
          "model_module": "@jupyter-widgets/base",
          "model_name": "LayoutModel",
          "model_module_version": "1.2.0",
          "state": {
            "_model_module": "@jupyter-widgets/base",
            "_model_module_version": "1.2.0",
            "_model_name": "LayoutModel",
            "_view_count": null,
            "_view_module": "@jupyter-widgets/base",
            "_view_module_version": "1.2.0",
            "_view_name": "LayoutView",
            "align_content": null,
            "align_items": null,
            "align_self": null,
            "border": null,
            "bottom": null,
            "display": null,
            "flex": null,
            "flex_flow": null,
            "grid_area": null,
            "grid_auto_columns": null,
            "grid_auto_flow": null,
            "grid_auto_rows": null,
            "grid_column": null,
            "grid_gap": null,
            "grid_row": null,
            "grid_template_areas": null,
            "grid_template_columns": null,
            "grid_template_rows": null,
            "height": null,
            "justify_content": null,
            "justify_items": null,
            "left": null,
            "margin": null,
            "max_height": null,
            "max_width": null,
            "min_height": null,
            "min_width": null,
            "object_fit": null,
            "object_position": null,
            "order": null,
            "overflow": null,
            "overflow_x": null,
            "overflow_y": null,
            "padding": null,
            "right": null,
            "top": null,
            "visibility": null,
            "width": null
          }
        },
        "c13d4d02fae246c39ca2bdddafbb0189": {
          "model_module": "@jupyter-widgets/controls",
          "model_name": "DescriptionStyleModel",
          "model_module_version": "1.5.0",
          "state": {
            "_model_module": "@jupyter-widgets/controls",
            "_model_module_version": "1.5.0",
            "_model_name": "DescriptionStyleModel",
            "_view_count": null,
            "_view_module": "@jupyter-widgets/base",
            "_view_module_version": "1.2.0",
            "_view_name": "StyleView",
            "description_width": ""
          }
        }
      }
    }
  },
  "cells": [
    {
      "cell_type": "markdown",
      "metadata": {
        "id": "view-in-github",
        "colab_type": "text"
      },
      "source": [
        "<a href=\"https://colab.research.google.com/github/PLippmann/disaster-tweet-jax/blob/main/solution.ipynb\" target=\"_parent\"><img src=\"https://colab.research.google.com/assets/colab-badge.svg\" alt=\"Open In Colab\"/></a>"
      ]
    },
    {
      "cell_type": "markdown",
      "source": [
        "# Disaster Tweet Kaggle Competition in Jax"
      ],
      "metadata": {
        "id": "A0_qA8Ih3Zoh"
      }
    },
    {
      "cell_type": "markdown",
      "source": [
        "This solves the [Disaster Tweet Kaggle Competition](https://www.kaggle.com/c/nlp-getting-started) using a standard BERT approach using Jax.\n",
        "\n",
        "There are very few available approaches to problems like this using Jax, so I thought I would share mine.\n",
        "\n",
        "It will get you an eval score on the hidden test set of around 0.836, placing you close to the top of the rolling leaderboard. I'm sure that you can push this further if you optimize hypers, clean the training text, and choose a more capable model.\n",
        "\n",
        "This implementation also trains fast (~3 mins on TPU), compared to unoptimized versions you might use, due to the use of JIT."
      ],
      "metadata": {
        "id": "oNo9Lbn23W81"
      }
    },
    {
      "cell_type": "markdown",
      "source": [
        "## Install and import relevant packages. Check for TPU."
      ],
      "metadata": {
        "id": "kVdmNk0pMF_i"
      }
    },
    {
      "cell_type": "code",
      "execution_count": null,
      "metadata": {
        "colab": {
          "base_uri": "https://localhost:8080/"
        },
        "id": "yccQvkgFKKrX",
        "outputId": "930ef913-afe8-4c12-fb60-3e17f89061de"
      },
      "outputs": [
        {
          "output_type": "stream",
          "name": "stdout",
          "text": [
            "8\n",
            "[TpuDevice(id=0, process_index=0, coords=(0,0,0), core_on_chip=0), TpuDevice(id=1, process_index=0, coords=(0,0,0), core_on_chip=1), TpuDevice(id=2, process_index=0, coords=(1,0,0), core_on_chip=0), TpuDevice(id=3, process_index=0, coords=(1,0,0), core_on_chip=1), TpuDevice(id=4, process_index=0, coords=(0,1,0), core_on_chip=0), TpuDevice(id=5, process_index=0, coords=(0,1,0), core_on_chip=1), TpuDevice(id=6, process_index=0, coords=(1,1,0), core_on_chip=0), TpuDevice(id=7, process_index=0, coords=(1,1,0), core_on_chip=1)]\n"
          ]
        }
      ],
      "source": [
        "!pip install -q transformers datasets jax jaxlib optax flax\n",
        "!pip install -q pandas matplotlib seaborn\n",
        "\n",
        "import pandas as pd\n",
        "import matplotlib.pyplot as plt\n",
        "import seaborn as sns\n",
        "from datasets import load_dataset\n",
        "import jax\n",
        "import jax.numpy as jnp\n",
        "from transformers import AutoTokenizer, FlaxAutoModelForSequenceClassification\n",
        "\n",
        "print(jax.local_device_count())\n",
        "print(jax.devices())"
      ]
    },
    {
      "cell_type": "markdown",
      "source": [
        "## Load the local data and print some information to sanity check."
      ],
      "metadata": {
        "id": "T9rC-wotMOa4"
      }
    },
    {
      "cell_type": "code",
      "source": [
        "# Load the dataset\n",
        "train_df = pd.read_csv('/content/train.csv')\n",
        "test_df = pd.read_csv('/content/test.csv')\n",
        "\n",
        "print(\"Train shape:\", train_df.shape)\n",
        "print(\"Test shape:\", test_df.shape)\n",
        "print(\"\\nTrain columns:\", train_df.columns)\n",
        "print(\"Test columns:\", test_df.columns)\n",
        "\n",
        "print(\"\\nSample from train_df:\")\n",
        "print(train_df.head())"
      ],
      "metadata": {
        "colab": {
          "base_uri": "https://localhost:8080/"
        },
        "id": "E_T95CmkMPPN",
        "outputId": "79d4b753-6d5f-4aa2-cd39-01e71e41c287"
      },
      "execution_count": null,
      "outputs": [
        {
          "output_type": "stream",
          "name": "stdout",
          "text": [
            "Train shape: (7613, 5)\n",
            "Test shape: (3263, 4)\n",
            "\n",
            "Train columns: Index(['id', 'keyword', 'location', 'text', 'target'], dtype='object')\n",
            "Test columns: Index(['id', 'keyword', 'location', 'text'], dtype='object')\n",
            "\n",
            "Sample from train_df:\n",
            "   id keyword location                                               text  \\\n",
            "0   1     NaN      NaN  Our Deeds are the Reason of this #earthquake M...   \n",
            "1   4     NaN      NaN             Forest fire near La Ronge Sask. Canada   \n",
            "2   5     NaN      NaN  All residents asked to 'shelter in place' are ...   \n",
            "3   6     NaN      NaN  13,000 people receive #wildfires evacuation or...   \n",
            "4   7     NaN      NaN  Just got sent this photo from Ruby #Alaska as ...   \n",
            "\n",
            "   target  \n",
            "0       1  \n",
            "1       1  \n",
            "2       1  \n",
            "3       1  \n",
            "4       1  \n"
          ]
        }
      ]
    },
    {
      "cell_type": "markdown",
      "source": [
        "## Visualize the data. Here, we show the class distribution, plot the length, and show the top keywords."
      ],
      "metadata": {
        "id": "1s1I1yGmMRin"
      }
    },
    {
      "cell_type": "code",
      "source": [
        "# Visualize class distribution\n",
        "plt.figure(figsize=(8, 6))\n",
        "sns.countplot(x='target', data=train_df)\n",
        "plt.title('Class Distribution in Training Data')\n",
        "plt.show()\n",
        "\n",
        "# Visualize tweet lengths\n",
        "train_df['tweet_length'] = train_df['text'].str.len()\n",
        "plt.figure(figsize=(10, 6))\n",
        "sns.histplot(data=train_df, x='tweet_length', hue='target', bins=50, kde=True)\n",
        "plt.title('Distribution of Tweet Lengths')\n",
        "plt.xlabel('Tweet Length')\n",
        "plt.show()\n",
        "\n",
        "# Visualize most common keywords\n",
        "plt.figure(figsize=(12, 6))\n",
        "train_df['keyword'].value_counts().head(20).plot(kind='bar')\n",
        "plt.title('Top 20 Keywords')\n",
        "plt.xlabel('Keyword')\n",
        "plt.ylabel('Count')\n",
        "plt.xticks(rotation=45, ha='right')\n",
        "plt.tight_layout()\n",
        "plt.show()"
      ],
      "metadata": {
        "colab": {
          "base_uri": "https://localhost:8080/",
          "height": 1000
        },
        "id": "DhR16NC_MSKv",
        "outputId": "002b7277-df0f-4976-ae7a-246dca851c5f"
      },
      "execution_count": null,
      "outputs": [
        {
          "output_type": "display_data",
          "data": {
            "text/plain": [
              "<Figure size 800x600 with 1 Axes>"
            ],
            "image/png": "[encoded data removed]"
          },
          "metadata": {}
        },
        {
          "output_type": "display_data",
          "data": {
            "text/plain": [
              "<Figure size 1000x600 with 1 Axes>"
            ],
            "image/png": "[encoded data removed]"
          },
          "metadata": {}
        },
        {
          "output_type": "display_data",
          "data": {
            "text/plain": [
              "<Figure size 1200x600 with 1 Axes>"
            ],
            "image/png": "[encoded data removed]"
          },
          "metadata": {}
        }
      ]
    },
    {
      "cell_type": "markdown",
      "source": [
        "## Preprocess the data to generate a train and validation split."
      ],
      "metadata": {
        "id": "SYeorG1wQObA"
      }
    },
    {
      "cell_type": "code",
      "source": [
        "# Remove rows with missing values\n",
        "train_df = train_df.dropna(subset=['text'])\n",
        "\n",
        "# Split the data into training and validation sets\n",
        "train_texts, val_texts, train_labels, val_labels = train_test_split(\n",
        "    train_df['text'].tolist(),\n",
        "    train_df['target'].tolist(),\n",
        "    test_size=0.1,\n",
        "    random_state=42\n",
        ")\n"
      ],
      "metadata": {
        "id": "aneZT4-6QPV3"
      },
      "execution_count": null,
      "outputs": []
    },
    {
      "cell_type": "markdown",
      "source": [
        "## Define the model and load tokenizer from HF. Then we encode the different datasets."
      ],
      "metadata": {
        "id": "mXenPf2FNCAg"
      }
    },
    {
      "cell_type": "code",
      "source": [
        "model_name = \"roberta-base\"\n",
        "tokenizer = AutoTokenizer.from_pretrained(model_name)\n",
        "\n",
        "def tokenize_function(examples):\n",
        "    return tokenizer(examples, padding=\"max_length\", truncation=True, max_length=128)\n",
        "\n",
        "# Tokenize the datasets\n",
        "train_encodings = tokenize_function(train_texts)\n",
        "val_encodings = tokenize_function(val_texts)\n",
        "test_encodings = tokenize_function(test_df['text'].tolist())\n"
      ],
      "metadata": {
        "colab": {
          "base_uri": "https://localhost:8080/"
        },
        "id": "WNTgg7DANEsb",
        "outputId": "1bb3d7d9-d772-4939-f8a8-eeb51cd1b827"
      },
      "execution_count": null,
      "outputs": [
        {
          "output_type": "stream",
          "name": "stderr",
          "text": [
            "/usr/local/lib/python3.10/dist-packages/huggingface_hub/utils/_token.py:89: UserWarning: \n",
            "The secret `HF_TOKEN` does not exist in your Colab secrets.\n",
            "To authenticate with the Hugging Face Hub, create a token in your settings tab (https://huggingface.co/settings/tokens), set it as secret in your Google Colab and restart your session.\n",
            "You will be able to reuse this secret in all of your notebooks.\n",
            "Please note that authentication is recommended but still optional to access public models or datasets.\n",
            "  warnings.warn(\n",
            "/usr/local/lib/python3.10/dist-packages/transformers/tokenization_utils_base.py:1601: FutureWarning: `clean_up_tokenization_spaces` was not set. It will be set to `True` by default. This behavior will be depracted in transformers v4.45, and will be then set to `False` by default. For more details check this issue: https://github.com/huggingface/transformers/issues/31884\n",
            "  warnings.warn(\n"
          ]
        }
      ]
    },
    {
      "cell_type": "markdown",
      "source": [
        "## Set the config used to train the model, as well as the hypers."
      ],
      "metadata": {
        "id": "Guanaomi2A1F"
      }
    },
    {
      "cell_type": "code",
      "source": [
        "import optax\n",
        "from flax.training import train_state\n",
        "\n",
        "\n",
        "# Load the model configuration\n",
        "config = AutoConfig.from_pretrained(model_name)\n",
        "\n",
        "# Set the desired dropout rate\n",
        "config.hidden_dropout_prob = 0.1  # Dropout for hidden layers\n",
        "config.attention_probs_dropout_prob = 0.1  # Dropout for attention layers\n",
        "config.num_labels = 2  # Set the number of labels for the classification task\n",
        "\n",
        "# Load the model with the modified config\n",
        "model = FlaxAutoModelForSequenceClassification.from_pretrained(model_name, config=config)\n",
        "\n",
        "# Define the learning rate and optimizer\n",
        "learning_rate = 5e-6\n",
        "optimizer = optax.adamw(learning_rate=learning_rate, weight_decay=1e-5) # Weight decay helped with overfitting\n",
        "\n",
        "# Initialize model parameters\n",
        "rng = jax.random.PRNGKey(42)\n",
        "input_shape = (1, 128)\n",
        "inputs = {\"input_ids\": jnp.ones(input_shape, dtype=\"i4\")}\n",
        "params = model.params\n",
        "\n",
        "# Create train state for Jax\n",
        "class TrainState(train_state.TrainState):\n",
        "    logits_fn: callable = None\n",
        "\n",
        "state = TrainState.create(\n",
        "    apply_fn=model.__call__,\n",
        "    params=params,\n",
        "    tx=optimizer,\n",
        ")\n",
        "\n",
        "print(\"Model initialized and ready for training.\")"
      ],
      "metadata": {
        "colab": {
          "base_uri": "https://localhost:8080/"
        },
        "id": "tpPNwB-VQZH9",
        "outputId": "01d9767f-7aef-4cff-fddd-d05a5ffee7f4"
      },
      "execution_count": null,
      "outputs": [
        {
          "output_type": "stream",
          "name": "stderr",
          "text": [
            "Some weights of the model checkpoint at roberta-base were not used when initializing FlaxRobertaForSequenceClassification: {('lm_head', 'layer_norm', 'bias'), ('lm_head', 'layer_norm', 'scale'), ('lm_head', 'dense', 'bias'), ('lm_head', 'dense', 'kernel'), ('lm_head', 'bias')}\n",
            "- This IS expected if you are initializing FlaxRobertaForSequenceClassification from the checkpoint of a model trained on another task or with another architecture (e.g. initializing a BertForSequenceClassification model from a BertForPreTraining model).\n",
            "- This IS NOT expected if you are initializing FlaxRobertaForSequenceClassification from the checkpoint of a model that you expect to be exactly identical (initializing a BertForSequenceClassification model from a BertForSequenceClassification model).\n",
            "Some weights of FlaxRobertaForSequenceClassification were not initialized from the model checkpoint at roberta-base and are newly initialized: {('classifier', 'dense', 'kernel'), ('classifier', 'out_proj', 'kernel'), ('classifier', 'dense', 'bias'), ('classifier', 'out_proj', 'bias')}\n",
            "You should probably TRAIN this model on a down-stream task to be able to use it for predictions and inference.\n"
          ]
        },
        {
          "output_type": "stream",
          "name": "stdout",
          "text": [
            "Model initialized and ready for training.\n"
          ]
        }
      ]
    },
    {
      "cell_type": "markdown",
      "source": [
        "## Data loader that moves trainig and val data to device."
      ],
      "metadata": {
        "id": "sMritevzNFxH"
      }
    },
    {
      "cell_type": "code",
      "source": [
        "import numpy as np\n",
        "\n",
        "\n",
        "def create_train_dataset():\n",
        "    dataset = {\n",
        "        'input_ids': np.array(train_encodings['input_ids']),\n",
        "        'attention_mask': np.array(train_encodings['attention_mask']),\n",
        "        'labels': np.array(train_labels)\n",
        "    }\n",
        "    return dataset\n",
        "\n",
        "def create_val_dataset():\n",
        "    dataset = {\n",
        "        'input_ids': np.array(val_encodings['input_ids']),\n",
        "        'attention_mask': np.array(val_encodings['attention_mask']),\n",
        "        'labels': np.array(val_labels)\n",
        "    }\n",
        "    return dataset\n",
        "\n",
        "train_dataset = create_train_dataset()\n",
        "val_dataset = create_val_dataset()\n",
        "\n",
        "def data_loader(dataset, batch_size, shuffle=False):\n",
        "    num_samples = len(dataset['input_ids'])\n",
        "    indices = np.arange(num_samples)\n",
        "\n",
        "    # Shuffle indices if required\n",
        "    if shuffle:\n",
        "        np.random.shuffle(indices)\n",
        "\n",
        "    # Yield batches\n",
        "    for i in range(0, num_samples, batch_size):\n",
        "        batch_indices = indices[i:i+batch_size]\n",
        "\n",
        "        # Collect batch and move it to the TPU memory using jax.device_put\n",
        "        batch = {k: jnp.array(v[batch_indices]) for k, v in dataset.items()}\n",
        "        batch_on_device = jax.device_put(batch)\n",
        "\n",
        "        yield batch_on_device"
      ],
      "metadata": {
        "id": "X5dDrKXgNG0P"
      },
      "execution_count": null,
      "outputs": []
    },
    {
      "cell_type": "markdown",
      "source": [
        "## Core training and eval loops. In JIT."
      ],
      "metadata": {
        "id": "N2ctmnwgNdrN"
      }
    },
    {
      "cell_type": "code",
      "source": [
        "@jax.jit\n",
        "def train_step(state, batch, dropout_key):\n",
        "    def loss_fn(params):\n",
        "        outputs = model(input_ids=batch['input_ids'],\n",
        "                        attention_mask=batch['attention_mask'],\n",
        "                        params=params,\n",
        "                        train=True,\n",
        "                        dropout_rng=dropout_key)\n",
        "        logits = outputs.logits\n",
        "        loss = optax.softmax_cross_entropy_with_integer_labels(logits, batch['labels']).mean()\n",
        "        return loss, logits\n",
        "\n",
        "    grad_fn = jax.value_and_grad(loss_fn, has_aux=True)\n",
        "    (loss, logits), grads = grad_fn(state.params)\n",
        "    state = state.apply_gradients(grads=grads)\n",
        "    accuracy = jnp.mean(jnp.argmax(logits, axis=-1) == batch['labels'])\n",
        "    return state, loss, accuracy\n",
        "\n",
        "@jax.jit\n",
        "def eval_step(state, batch):\n",
        "    outputs = model(input_ids=batch['input_ids'],\n",
        "                    attention_mask=batch['attention_mask'],\n",
        "                    params=state.params,\n",
        "                    train=False)\n",
        "    logits = outputs.logits\n",
        "    loss = optax.softmax_cross_entropy_with_integer_labels(logits, batch['labels']).mean()\n",
        "    accuracy = jnp.mean(jnp.argmax(logits, axis=-1) == batch['labels'])\n",
        "    return loss, accuracy"
      ],
      "metadata": {
        "id": "hJvxB1G4NL1b"
      },
      "execution_count": null,
      "outputs": []
    },
    {
      "cell_type": "markdown",
      "source": [
        "## Here is where we perform the actual training for a given number of epochs and a certain batch size. The model is evaluated on the validation set at each epoch.\n"
      ],
      "metadata": {
        "id": "VpJXtp5INiOD"
      }
    },
    {
      "cell_type": "code",
      "source": [
        "from tqdm.notebook import tqdm\n",
        "\n",
        "\n",
        "key = jax.random.PRNGKey(0)\n",
        "\n",
        "num_epochs = 5\n",
        "batch_size = 32\n",
        "\n",
        "for epoch in range(num_epochs):\n",
        "    # Training\n",
        "    total_loss, total_accuracy = 0, 0\n",
        "    num_batches = 0\n",
        "    # Split PRNG key for each batch\n",
        "    key, epoch_key = jax.random.split(key)\n",
        "\n",
        "    for batch in tqdm(data_loader(train_dataset, batch_size, shuffle=True), desc=f\"Epoch {epoch + 1} Training\"):\n",
        "        # Split PRNG key for dropout\n",
        "        epoch_key, dropout_key = jax.random.split(epoch_key)\n",
        "\n",
        "        # Training step\n",
        "        state, loss, accuracy = train_step(state, batch, dropout_key)\n",
        "        total_loss += loss\n",
        "        total_accuracy += accuracy\n",
        "        num_batches += 1\n",
        "\n",
        "    avg_train_loss = total_loss / num_batches\n",
        "    avg_train_accuracy = total_accuracy / num_batches\n",
        "\n",
        "    # Evaluation\n",
        "    total_loss, total_accuracy = 0, 0\n",
        "    num_batches = 0\n",
        "    for batch in data_loader(val_dataset, batch_size):\n",
        "        # Evaluation step\n",
        "        loss, accuracy = eval_step(state, batch)\n",
        "        total_loss += loss\n",
        "        total_accuracy += accuracy\n",
        "        num_batches += 1\n",
        "\n",
        "    avg_val_loss = total_loss / num_batches\n",
        "    avg_val_accuracy = total_accuracy / num_batches\n",
        "\n",
        "    print(f\"Epoch {epoch + 1}\")\n",
        "    print(f\"Train Loss: {avg_train_loss:.4f}, Train Accuracy: {avg_train_accuracy:.4f}\")\n",
        "    print(f\"Val Loss: {avg_val_loss:.4f}, Val Accuracy: {avg_val_accuracy:.4f}\")\n",
        "    print()\n",
        "\n",
        "print(\"Training completed!\")"
      ],
      "metadata": {
        "colab": {
          "base_uri": "https://localhost:8080/",
          "height": 534,
          "referenced_widgets": [
            "19328da31a06489f986fd5e60b13c2c0",
            "58a690add23c43d8bd07dd91a83b7fcf",
            "00b4086e5790404192a4591e98d636af",
            "4f41d028c53e4581abb4bd986cc6b2d6",
            "70b81644036a4374bf6dc206822d8783",
            "989a66b248ee4cbdb04c455a8cf9944f",
            "26d8995b9bb448ba9d128a3a32707a77",
            "6f2a337518944ce6837ce4c0ee064a02",
            "729d8a41e56c425d857359af5253bb63",
            "7b8677a248ad48648c7f74a3ce561ff1",
            "c5455eb29c1a46dc8a20a539c13a19d3",
            "fbe44b48baa941ce90ba6f891707272b",
            "a0b22d0e8d554bcaa5ebb0b293d44d8b",
            "8a16521932914c1585efe98b5e49279b",
            "a3128801f7364433b7461bc0db60a1b4",
            "673e65e049f74475afbbb1c10c3c1f77",
            "d41362e5f2ba41b88d867b05e028e17b",
            "a9615f0b7bb6405596cd5d60e37c5692",
            "f0d23d2c56ae4e42aeda53d70b3d6e2d",
            "562964ef8c2b42659e8839411a3adf2d",
            "820dfa21ef90478a92be79f9eb2263cd",
            "6fc5ad713f9c4cdba176da2216d02d05",
            "383c5f5785c445f2a68633a954737153",
            "50149601221c4679bcccc7b18fb7efee",
            "4ee79bbbe800437abe792ae769be005c",
            "1108c98b0fe84c5f9ff2775f9fcaad18",
            "46a0a4e6b3644388b52b0bb05873cf7b",
            "e2639ebf830d4fb98ec25d460af4be3f",
            "4d6a6412cf1e4511bdab6f090e72c1b8",
            "ee100b12c8cc4806918b7d50c95877b0",
            "c31317b4cd61485485142e7a839a82d7",
            "91d040ce6afc4fa2b866ebf0dd4eb7ad",
            "b41b19a4eebd435e8ecef7926a578cb4",
            "35ff440868ed41e787bfed0e5dbfc127",
            "4197ef5e86e84c3cb63c3b829b9f1a37",
            "9ce622c897954b17b6b646d424d05d0f",
            "fa90e4b382d04035a5c4dcd88bf9b6a6",
            "8fe1dc17a6854da896c06edd3791e467",
            "5084b963defa48e1892e0c6ffecd7e53",
            "ad850b871a7647f79a8dd574d52531b2",
            "2d3db691cd884de9acd3547a20643a94",
            "20f685495b0440c583f01ab3ef0a24bb",
            "1b090adc7aa048b2b2e10e875571e8b7",
            "9329b5083dcb448a90a9994016154728",
            "e7e31ac7cd104982ae6787071d9673a8",
            "36d7e13e8125461d9e8b586e176095e6",
            "afeebf0965e2405aa569828442334ffa",
            "3c64825d78554632b07d78d3343b68de",
            "98568cdee4864f2199cfbf4ff31c1b0e",
            "e5db95f482d440a5b41a5ca64787659d",
            "fb63ebe839824a93a4b0d227f99abf7c",
            "521b719ec5024effa522ece00c072172",
            "fb1cf598b0404a9e8bf5c9bc9d353eba",
            "244bfcdfe75b4943842840ba8d811725",
            "c13d4d02fae246c39ca2bdddafbb0189"
          ]
        },
        "id": "84ck0LJBNjVV",
        "outputId": "f072df7e-1e93-4aa0-c2d0-67f1efa310b1"
      },
      "execution_count": null,
      "outputs": [
        {
          "output_type": "display_data",
          "data": {
            "text/plain": [
              "Epoch 1 Training: 0it [00:00, ?it/s]"
            ],
            "application/vnd.jupyter.widget-view+json": {
              "version_major": 2,
              "version_minor": 0,
              "model_id": "19328da31a06489f986fd5e60b13c2c0"
            }
          },
          "metadata": {}
        },
        {
          "output_type": "stream",
          "name": "stdout",
          "text": [
            "Epoch 1\n",
            "Train Loss: 0.4999, Train Accuracy: 0.7455\n",
            "Val Loss: 0.3954, Val Accuracy: 0.8383\n",
            "\n"
          ]
        },
        {
          "output_type": "display_data",
          "data": {
            "text/plain": [
              "Epoch 2 Training: 0it [00:00, ?it/s]"
            ],
            "application/vnd.jupyter.widget-view+json": {
              "version_major": 2,
              "version_minor": 0,
              "model_id": "fbe44b48baa941ce90ba6f891707272b"
            }
          },
          "metadata": {}
        },
        {
          "output_type": "stream",
          "name": "stdout",
          "text": [
            "Epoch 2\n",
            "Train Loss: 0.3704, Train Accuracy: 0.8446\n",
            "Val Loss: 0.3952, Val Accuracy: 0.8344\n",
            "\n"
          ]
        },
        {
          "output_type": "display_data",
          "data": {
            "text/plain": [
              "Epoch 3 Training: 0it [00:00, ?it/s]"
            ],
            "application/vnd.jupyter.widget-view+json": {
              "version_major": 2,
              "version_minor": 0,
              "model_id": "383c5f5785c445f2a68633a954737153"
            }
          },
          "metadata": {}
        },
        {
          "output_type": "stream",
          "name": "stdout",
          "text": [
            "Epoch 3\n",
            "Train Loss: 0.3334, Train Accuracy: 0.8630\n",
            "Val Loss: 0.4122, Val Accuracy: 0.8302\n",
            "\n"
          ]
        },
        {
          "output_type": "display_data",
          "data": {
            "text/plain": [
              "Epoch 4 Training: 0it [00:00, ?it/s]"
            ],
            "application/vnd.jupyter.widget-view+json": {
              "version_major": 2,
              "version_minor": 0,
              "model_id": "35ff440868ed41e787bfed0e5dbfc127"
            }
          },
          "metadata": {}
        },
        {
          "output_type": "stream",
          "name": "stdout",
          "text": [
            "Epoch 4\n",
            "Train Loss: 0.3032, Train Accuracy: 0.8791\n",
            "Val Loss: 0.4634, Val Accuracy: 0.8127\n",
            "\n"
          ]
        },
        {
          "output_type": "display_data",
          "data": {
            "text/plain": [
              "Epoch 5 Training: 0it [00:00, ?it/s]"
            ],
            "application/vnd.jupyter.widget-view+json": {
              "version_major": 2,
              "version_minor": 0,
              "model_id": "e7e31ac7cd104982ae6787071d9673a8"
            }
          },
          "metadata": {}
        },
        {
          "output_type": "stream",
          "name": "stdout",
          "text": [
            "Epoch 5\n",
            "Train Loss: 0.2645, Train Accuracy: 0.8972\n",
            "Val Loss: 0.4115, Val Accuracy: 0.8393\n",
            "\n",
            "Training completed!\n"
          ]
        }
      ]
    },
    {
      "cell_type": "markdown",
      "source": [
        "## Save the model. Can use the code below to load a saved checkpoint as well."
      ],
      "metadata": {
        "id": "y1IZ9cRxo5SB"
      }
    },
    {
      "cell_type": "code",
      "source": [
        "'''\n",
        "# Uncomment to save and/or load model checkpoints\n",
        "from transformers import FlaxAutoModelForSequenceClassification, AutoTokenizer\n",
        "from flax.training import checkpoints\n",
        "\n",
        "# Save the fine-tuned model\n",
        "model_save_path = \"/content/fine_tuned_disaster_tweets_model\"\n",
        "checkpoints.save_checkpoint(model_save_path, state, step=num_epochs, keep=1)\n",
        "print(f\"Model saved to {model_save_path}\")\n",
        "\n",
        "# Save the tokenizer\n",
        "tokenizer.save_pretrained(model_save_path)\n",
        "print(f\"Tokenizer saved to {model_save_path}\")\n",
        "\n",
        "# Load the tokenizer\n",
        "loaded_tokenizer = AutoTokenizer.from_pretrained(\"./fine_tuned_disaster_tweets_model\")\n",
        "\n",
        "# Load the model\n",
        "loaded_model = FlaxAutoModelForSequenceClassification.from_pretrained(\"bert-base-uncased\", num_labels=2)\n",
        "loaded_state = checkpoints.restore_checkpoint(\"./fine_tuned_disaster_tweets_model\", target=None)\n",
        "'''"
      ],
      "metadata": {
        "colab": {
          "base_uri": "https://localhost:8080/",
          "height": 105
        },
        "id": "SN150QDZo43f",
        "outputId": "ced9d046-22a9-4906-cca4-6e014c3d8704"
      },
      "execution_count": null,
      "outputs": [
        {
          "output_type": "error",
          "ename": "SyntaxError",
          "evalue": "incomplete input (<ipython-input-12-b5be01400e98>, line 1)",
          "traceback": [
            "\u001b[0;36m  File \u001b[0;32m\"<ipython-input-12-b5be01400e98>\"\u001b[0;36m, line \u001b[0;32m1\u001b[0m\n\u001b[0;31m    '''from transformers import FlaxAutoModelForSequenceClassification, AutoTokenizer\u001b[0m\n\u001b[0m    ^\u001b[0m\n\u001b[0;31mSyntaxError\u001b[0m\u001b[0;31m:\u001b[0m incomplete input\n"
          ]
        }
      ]
    },
    {
      "cell_type": "markdown",
      "source": [
        "## Perform inference on the test set to generate predictions for submission."
      ],
      "metadata": {
        "id": "eM99s4FP2zOW"
      }
    },
    {
      "cell_type": "code",
      "source": [
        "# Same as before but now for the test set\n",
        "def create_test_dataset():\n",
        "    dataset = {\n",
        "        'input_ids': np.array(test_encodings['input_ids']),\n",
        "        'attention_mask': np.array(test_encodings['attention_mask']),\n",
        "    }\n",
        "    return dataset\n",
        "\n",
        "test_dataset = create_test_dataset()\n",
        "\n",
        "# Function to perform inference on the test dataset\n",
        "@jax.jit\n",
        "def predict_step(state, batch):\n",
        "    outputs = model(input_ids=batch['input_ids'],\n",
        "                    attention_mask=batch['attention_mask'],\n",
        "                    params=state.params,\n",
        "                    train=False)\n",
        "    logits = outputs.logits\n",
        "    return logits\n",
        "\n",
        "# Perform predictions on the test dataset\n",
        "predictions = []\n",
        "batch_size = 32\n",
        "\n",
        "for batch in data_loader(test_dataset, batch_size):\n",
        "    logits = predict_step(state, batch)\n",
        "    predictions.append(logits)\n",
        "\n",
        "# Concatenate logits and apply softmax to get probabilities\n",
        "all_logits = jnp.concatenate(predictions, axis=0)\n",
        "probabilities = jax.nn.softmax(all_logits, axis=-1)\n",
        "\n",
        "# Get the predicted labels\n",
        "predicted_classes = jnp.argmax(probabilities, axis=-1)\n",
        "\n",
        "# Create the submission DataFrame\n",
        "submission_df = pd.DataFrame({\n",
        "    'id': test_df['id'],  # Ensure 'id' matches your test CSV structure\n",
        "    'target': predicted_classes\n",
        "})\n",
        "\n",
        "# Save the submission DataFrame to a CSV file\n",
        "submission_file_path = '/content/submission.csv'\n",
        "submission_df.to_csv(submission_file_path, index=False)\n",
        "\n",
        "print(f\"Submission file created at: {submission_file_path}\")\n"
      ],
      "metadata": {
        "colab": {
          "base_uri": "https://localhost:8080/"
        },
        "id": "NqLPuDFFmc0y",
        "outputId": "f647eda9-77c7-4464-ef46-25059d003727"
      },
      "execution_count": null,
      "outputs": [
        {
          "output_type": "stream",
          "name": "stdout",
          "text": [
            "Submission file created at: /content/submission.csv\n"
          ]
        }
      ]
    },
    {
      "cell_type": "code",
      "source": [],
      "metadata": {
        "id": "aoJ-bXhNoccK"
      },
      "execution_count": null,
      "outputs": []
    }
  ]
}